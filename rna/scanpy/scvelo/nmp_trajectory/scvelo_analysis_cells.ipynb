{
 "cells": [
  {
   "cell_type": "markdown",
   "id": "loved-murray",
   "metadata": {},
   "source": [
    "# Import libraries"
   ]
  },
  {
   "cell_type": "code",
   "execution_count": null,
   "id": "express-missouri",
   "metadata": {},
   "outputs": [],
   "source": [
    "import os\n",
    "from re import search\n",
    "import scvelo as scv"
   ]
  },
  {
   "cell_type": "code",
   "execution_count": null,
   "id": "dedicated-entity",
   "metadata": {},
   "outputs": [],
   "source": [
    "from IPython.core.interactiveshell import InteractiveShell\n",
    "InteractiveShell.ast_node_interactivity = \"all\""
   ]
  },
  {
   "cell_type": "markdown",
   "id": "dental-numbers",
   "metadata": {
    "ExecuteTime": {
     "end_time": "2020-09-22T10:11:30.480623Z",
     "start_time": "2020-09-22T10:11:30.475170Z"
    }
   },
   "source": [
    "# Load settings"
   ]
  },
  {
   "cell_type": "code",
   "execution_count": null,
   "id": "lesbian-bride",
   "metadata": {
    "ExecuteTime": {
     "end_time": "2021-02-23T09:20:45.769452Z",
     "start_time": "2021-02-23T09:20:39.009832Z"
    }
   },
   "outputs": [],
   "source": [
    "# exec(open('/bi/group/reik/ricard/scripts/gastrulation_multiome_10x/settings.py').read())\n",
    "# exec(open('/bi/group/reik/ricard/scripts/gastrulation_multiome_10x/utils.py').read())"
   ]
  },
  {
   "cell_type": "code",
   "execution_count": null,
   "id": "1ee21996",
   "metadata": {},
   "outputs": [],
   "source": [
    "exec(open('/Users/argelagr/gastrulation_multiome_10x/settings.py').read())\n",
    "exec(open('/Users/argelagr/gastrulation_multiome_10x/utils.py').read())"
   ]
  },
  {
   "cell_type": "markdown",
   "id": "danish-month",
   "metadata": {},
   "source": [
    "\n",
    "## Define I/O"
   ]
  },
  {
   "cell_type": "code",
   "execution_count": null,
   "id": "precious-interstate",
   "metadata": {},
   "outputs": [],
   "source": [
    "io[\"anndata_scvelo\"] = io[\"basedir\"] + \"/processed/rna/velocyto/anndata_scvelo.h5ad\"\n",
    "io[\"outdir\"] = io[\"basedir\"] + \"results/rna/velocyto/cells\""
   ]
  },
  {
   "cell_type": "markdown",
   "id": "instrumental-concentration",
   "metadata": {},
   "source": [
    "## Define options "
   ]
  },
  {
   "cell_type": "markdown",
   "id": "acute-commons",
   "metadata": {},
   "source": [
    "scanpy options"
   ]
  },
  {
   "cell_type": "code",
   "execution_count": null,
   "id": "looking-holocaust",
   "metadata": {},
   "outputs": [],
   "source": [
    "# %%capture\n",
    "# sc.settings.verbosity = 3\n",
    "# sc.logging.print_versions()\n",
    "sc.settings.set_figure_params(dpi=80, frameon=False, figsize=(8, 7), facecolor='white')\n",
    "sc.settings.figdir = io[\"outdir\"]"
   ]
  },
  {
   "cell_type": "code",
   "execution_count": null,
   "id": "5e20f628",
   "metadata": {},
   "outputs": [],
   "source": [
    "scv.set_figure_params('scvelo')  # for beautified visualization"
   ]
  },
  {
   "cell_type": "code",
   "execution_count": null,
   "id": "cleared-frame",
   "metadata": {},
   "outputs": [],
   "source": [
    "opts[\"samples\"] = [\n",
    "#\t\"E8.0_rep1\",\n",
    "#\t\"E8.0_rep2\",\n",
    "#\t\"E8.5_rep1\",\n",
    "#\t\"E8.5_rep2\",\n",
    "\t\"E8.5_CRISPR_T_KO\",\n",
    "\t\"E8.5_CRISPR_T_WT\"\n",
    "]\n",
    "\n",
    "opts[\"celltypes\"] = [\n",
    "  \"Caudal_Mesoderm\",\n",
    "  \"Somitic_mesoderm\",\n",
    "  \"NMP\",\n",
    "  \"Spinal_cord\"\n",
    "]"
   ]
  },
  {
   "cell_type": "markdown",
   "id": "sticky-samoa",
   "metadata": {},
   "source": [
    "## Load cell metadata"
   ]
  },
  {
   "cell_type": "code",
   "execution_count": null,
   "id": "present-gather",
   "metadata": {},
   "outputs": [],
   "source": [
    "metadata = (pd.read_table(io[\"metadata\"]) >>\n",
    "    mask(X.pass_rnaQC==True, X.doublet_call==False) >>\n",
    "    mask(X[\"sample\"].isin(opts[\"samples\"]), X[\"celltype\"].isin(opts[\"celltypes\"]))\n",
    ")\n",
    "metadata.shape"
   ]
  },
  {
   "cell_type": "code",
   "execution_count": null,
   "id": "cooked-input",
   "metadata": {},
   "outputs": [],
   "source": [
    "metadata[\"sample\"].value_counts()"
   ]
  },
  {
   "cell_type": "code",
   "execution_count": null,
   "id": "0da1bc70",
   "metadata": {},
   "outputs": [],
   "source": [
    "metadata[\"celltype\"].value_counts()"
   ]
  },
  {
   "cell_type": "markdown",
   "id": "suffering-poultry",
   "metadata": {},
   "source": [
    "# Load anndata object"
   ]
  },
  {
   "cell_type": "code",
   "execution_count": null,
   "id": "5acc8b19",
   "metadata": {},
   "outputs": [],
   "source": [
    "adata = load_adata(\n",
    "    adata_file = io[\"anndata_scvelo\"], \n",
    "    cells = metadata.cell.values, \n",
    "    metadata_file = io[\"metadata\"],\n",
    "    normalise = True, \n",
    "    filter_lowly_expressed_genes = False,\n",
    "    set_colors = True\n",
    ")\n",
    "adata"
   ]
  },
  {
   "cell_type": "code",
   "execution_count": null,
   "id": "2bed4475",
   "metadata": {},
   "outputs": [],
   "source": [
    "adata.obs[\"genotype\"].value_counts()"
   ]
  },
  {
   "cell_type": "markdown",
   "id": "weighted-representation",
   "metadata": {},
   "source": [
    "## Feature selection"
   ]
  },
  {
   "cell_type": "code",
   "execution_count": null,
   "id": "stainless-ballot",
   "metadata": {},
   "outputs": [],
   "source": [
    "# sc.pp.highly_variable_genes(adata, layer=None, n_top_genes=2500)"
   ]
  },
  {
   "cell_type": "markdown",
   "id": "twelve-hindu",
   "metadata": {},
   "source": [
    "# Dimensionality reduction"
   ]
  },
  {
   "cell_type": "markdown",
   "id": "ancient-herald",
   "metadata": {},
   "source": [
    "## PCA"
   ]
  },
  {
   "cell_type": "markdown",
   "id": "straight-activity",
   "metadata": {},
   "source": [
    "Run PCA"
   ]
  },
  {
   "cell_type": "code",
   "execution_count": null,
   "id": "least-allergy",
   "metadata": {
    "ExecuteTime": {
     "start_time": "2020-12-20T14:26:45.987Z"
    }
   },
   "outputs": [],
   "source": [
    "# sc.tl.pca(adata, n_comps=25, svd_solver='arpack')"
   ]
  },
  {
   "cell_type": "markdown",
   "id": "valuable-relations",
   "metadata": {},
   "source": [
    "Plot PCA"
   ]
  },
  {
   "cell_type": "code",
   "execution_count": null,
   "id": "chubby-recorder",
   "metadata": {},
   "outputs": [],
   "source": [
    "# sc.pl.pca(adata, components=[1,2], color=[\"celltype.mapped\",\"stage\"], size=25, legend_loc=None)"
   ]
  },
  {
   "cell_type": "markdown",
   "id": "3fa875ea",
   "metadata": {},
   "source": [
    "## Batch effect correction"
   ]
  },
  {
   "cell_type": "code",
   "execution_count": null,
   "id": "bfb37de2",
   "metadata": {},
   "outputs": [],
   "source": [
    "# sc.external.pp.harmony_integrate(adata, \"stage\", basis='X_pca', adjusted_basis='X_pca_harmony')"
   ]
  },
  {
   "cell_type": "markdown",
   "id": "verbal-danish",
   "metadata": {},
   "source": [
    "## k-NN graph"
   ]
  },
  {
   "cell_type": "markdown",
   "id": "confident-mention",
   "metadata": {},
   "source": [
    "Build kNN graph"
   ]
  },
  {
   "cell_type": "code",
   "execution_count": null,
   "id": "4658bb72",
   "metadata": {},
   "outputs": [],
   "source": [
    "sc.pp.neighbors(adata, n_neighbors=15, n_pcs=25)"
   ]
  },
  {
   "cell_type": "markdown",
   "id": "f0ebbf12",
   "metadata": {},
   "source": [
    "### Force-directed layout"
   ]
  },
  {
   "cell_type": "code",
   "execution_count": null,
   "id": "abe80616",
   "metadata": {
    "ExecuteTime": {
     "end_time": "2021-03-02T10:00:14.175153Z",
     "start_time": "2021-03-02T09:57:01.396549Z"
    }
   },
   "outputs": [],
   "source": [
    "sc.tl.draw_graph(adata, layout='fa', init_pos=None)"
   ]
  },
  {
   "cell_type": "code",
   "execution_count": null,
   "id": "872d50e8",
   "metadata": {
    "ExecuteTime": {
     "end_time": "2021-03-02T10:02:07.132457Z",
     "start_time": "2021-03-02T10:02:06.744685Z"
    },
    "scrolled": false
   },
   "outputs": [],
   "source": [
    "# sc.pl.draw_graph(adata, color='celltype', legend_loc='on data')\n",
    "sc.pl.draw_graph(adata, color=[\"celltype\",\"genotype\"], size=20, legend_loc='on data', legend_fontsize=7)"
   ]
  },
  {
   "cell_type": "code",
   "execution_count": null,
   "id": "24db02cb",
   "metadata": {},
   "outputs": [],
   "source": [
    "# sc.pl.draw_graph(adata, color=[\"stage\"], size=20, legend_loc='on data', legend_fontsize=12)"
   ]
  },
  {
   "cell_type": "markdown",
   "id": "grave-december",
   "metadata": {},
   "source": [
    "## UMAP"
   ]
  },
  {
   "cell_type": "markdown",
   "id": "published-physiology",
   "metadata": {},
   "source": [
    "Run UMAP"
   ]
  },
  {
   "cell_type": "code",
   "execution_count": null,
   "id": "hairy-soccer",
   "metadata": {
    "ExecuteTime": {
     "end_time": "2020-09-25T13:40:33.572380Z",
     "start_time": "2020-09-25T13:40:27.553003Z"
    }
   },
   "outputs": [],
   "source": [
    "# sc.tl.umap(adata, min_dist=0.5, n_components=2)"
   ]
  },
  {
   "cell_type": "markdown",
   "id": "insured-decrease",
   "metadata": {},
   "source": [
    "Plot UMAP"
   ]
  },
  {
   "cell_type": "code",
   "execution_count": null,
   "id": "matched-bottle",
   "metadata": {
    "ExecuteTime": {
     "end_time": "2020-09-25T13:40:34.101517Z",
     "start_time": "2020-09-25T13:40:33.597173Z"
    },
    "scrolled": false
   },
   "outputs": [],
   "source": [
    "# sc.pl.umap(adata, color=[\"celltype.mapped\",\"stage\"], size=25, legend_loc=\"on data\")\n",
    "# sc.pl.umap(adata, color=[\"celltype.mapped\",\"genotype\"], size=50, legend_loc=None)"
   ]
  },
  {
   "cell_type": "markdown",
   "id": "scheduled-limitation",
   "metadata": {},
   "source": [
    "## Downstream analysis"
   ]
  },
  {
   "cell_type": "markdown",
   "id": "ambient-comedy",
   "metadata": {},
   "source": [
    "Computes velocity graph based on cosine similarities."
   ]
  },
  {
   "cell_type": "code",
   "execution_count": null,
   "id": "cheap-shape",
   "metadata": {},
   "outputs": [],
   "source": [
    "#scv.tl.velocity_graph(adata)\n",
    "scv.tl.velocity_graph(adata, approx=True) "
   ]
  },
  {
   "cell_type": "markdown",
   "id": "social-culture",
   "metadata": {},
   "source": [
    "scvelo.pl.velocity_embedding_grid(adata, basis=None, vkey='velocity', density=None, smooth=None, min_mass=None, arrow_size=None, arrow_length=None, arrow_color=None, scale=None, autoscale=True, n_neighbors=None, recompute=None, X=None, V=None, X_grid=None, V_grid=None, principal_curve=False, color=None, use_raw=None, layer=None, color_map=None, colorbar=True, palette=None, size=None, alpha=0.2, perc=None, sort_order=True, groups=None, components=None, projection='2d', legend_loc='none', legend_fontsize=None, legend_fontweight=None, xlabel=None, ylabel=None, title=None, fontsize=None, figsize=None, dpi=None, frameon=None, show=None, save=None, ax=None, ncols=None, **kwargs)"
   ]
  },
  {
   "cell_type": "code",
   "execution_count": null,
   "id": "cb1f7c5a",
   "metadata": {},
   "outputs": [],
   "source": [
    "for i in [\"velocity\"]:\n",
    "    adata.layers[vkey] = adata.layers[vkey].todense()"
   ]
  },
  {
   "cell_type": "code",
   "execution_count": null,
   "id": "reported-kernel",
   "metadata": {},
   "outputs": [],
   "source": [
    "scv.pl.velocity_embedding_grid(\n",
    "    adata[adata.obs[\"genotype\"]==\"WT\",:], basis='X_draw_graph_fa', color=['celltype'], size=80, alpha=0.65, \n",
    "    arrow_length=5, arrow_size=2, dpi=500, legend_loc=\"none\", save=\"fa_layout_velocity_wt.pdf\", figsize=(5,5)\n",
    ")"
   ]
  },
  {
   "cell_type": "code",
   "execution_count": null,
   "id": "57cdbf6b",
   "metadata": {},
   "outputs": [],
   "source": [
    "scv.pl.velocity_embedding_grid(\n",
    "    adata[adata.obs[\"genotype\"]==\"T_KO\",:], basis='X_draw_graph_fa', color=['celltype'], size=80, alpha=0.65, \n",
    "    arrow_length=5, arrow_size=2, dpi=500, legend_loc=\"none\", save=\"fa_layout_velocity_ko.pdf\", figsize=(5,5)\n",
    ")"
   ]
  },
  {
   "cell_type": "markdown",
   "id": "nutritional-irish",
   "metadata": {},
   "source": [
    "scvelo.pl.velocity_embedding_stream(adata, basis=None, vkey='velocity', density=None, smooth=None, min_mass=None, cutoff_perc=None, arrow_color=None, linewidth=None, n_neighbors=None, recompute=None, color=None, use_raw=None, layer=None, color_map=None, colorbar=True, palette=None, size=None, alpha=0.3, perc=None, X=None, V=None, X_grid=None, V_grid=None, sort_order=True, groups=None, components=None, legend_loc='on data', legend_fontsize=None, legend_fontweight=None, xlabel=None, ylabel=None, title=None, fontsize=None, figsize=None, dpi=None, frameon=None, show=None, save=None, ax=None, ncols=None, **kwargs)"
   ]
  },
  {
   "cell_type": "code",
   "execution_count": null,
   "id": "listed-accountability",
   "metadata": {},
   "outputs": [],
   "source": [
    "scv.pl.velocity_embedding_stream(adata, basis='X_draw_graph_fa', color=['celltype',\"genotype\"], \n",
    "    legend_loc='right margin', linewidth=1, legend_fontsize=8, dpi=500)"
   ]
  },
  {
   "cell_type": "markdown",
   "id": "actual-macedonia",
   "metadata": {},
   "source": [
    "## Phase portraits "
   ]
  },
  {
   "cell_type": "markdown",
   "id": "simplified-muscle",
   "metadata": {},
   "source": [
    "## Latent time"
   ]
  },
  {
   "cell_type": "markdown",
   "id": "technical-trinidad",
   "metadata": {},
   "source": [
    "Gene-specific latent timepoints obtained from the dynamical model are coupled to a universal gene-shared latent time, which represents the cell’s internal clock and is based only on its transcriptional dynamics."
   ]
  },
  {
   "cell_type": "markdown",
   "id": "impressed-slope",
   "metadata": {},
   "source": [
    "scvelo.tl.latent_time(data, vkey='velocity', min_likelihood=0.1, min_confidence=0.75, min_corr_diffusion=None, weight_diffusion=None, root_key=None, end_key=None, t_max=None, copy=False)"
   ]
  },
  {
   "cell_type": "code",
   "execution_count": null,
   "id": "running-maximum",
   "metadata": {},
   "outputs": [],
   "source": [
    "scv.tl.latent_time(adata)\n",
    "scv.pl.scatter(adata, color='latent_time', color_map='gnuplot', size=80)"
   ]
  },
  {
   "cell_type": "markdown",
   "id": "traditional-storm",
   "metadata": {},
   "source": [
    "Now, let us examine the phase portraits of some marker genes, visualized with scv.pl.velocity(adata, gene_names) or scv.pl.scatter(adata, gene_names)."
   ]
  },
  {
   "cell_type": "markdown",
   "id": "clinical-tomato",
   "metadata": {},
   "source": [
    "The black line corresponds to the estimated ‘steady-state’ ratio, i.e. the ratio of unspliced to spliced mRNA abundance which is in a constant transcriptional state. RNA velocity for a particular gene is determined as the residual, i.e. how much an observation deviates from that steady-state line. Positive velocity indicates that a gene is up-regulated, which occurs for cells that show higher abundance of unspliced mRNA for that gene than expected in steady state. Conversely, negative velocity indicates that a gene is down-regulated."
   ]
  },
  {
   "cell_type": "code",
   "execution_count": null,
   "id": "passive-sullivan",
   "metadata": {},
   "outputs": [],
   "source": [
    "# all_genes = adata.var.index\n",
    "#genes_to_plot = all_genes[all_genes.str.match(\"^Hb-*\")][0]\n",
    "genes_to_plot = \"Sox17\""
   ]
  },
  {
   "cell_type": "markdown",
   "id": "indoor-harris",
   "metadata": {},
   "source": [
    "scvelo.pl.velocity(adata, var_names=None, basis=None, vkey='velocity', mode=None, fits=None, layers='all', color=None, color_map=None, colorbar=True, perc=[2, 98], alpha=0.5, size=None, groupby=None, groups=None, legend_loc='none', legend_fontsize=8, use_raw=False, fontsize=None, figsize=None, dpi=None, show=None, save=None, ax=None, ncols=None, **kwargs)"
   ]
  },
  {
   "cell_type": "code",
   "execution_count": null,
   "id": "selective-canberra",
   "metadata": {},
   "outputs": [],
   "source": [
    "scv.pl.velocity(adata, genes_to_plot, size=15)"
   ]
  },
  {
   "cell_type": "markdown",
   "id": "female-lewis",
   "metadata": {},
   "source": [
    "scvelo.pl.scatter(adata=None, basis=None, x=None, y=None, vkey=None, color=None, use_raw=None, layer=None, color_map=None, colorbar=None, palette=None, size=None, alpha=None, linewidth=None, linecolor=None, perc=None, groups=None, sort_order=True, components=None, projection=None, legend_loc=None, legend_loc_lines=None, legend_fontsize=None, legend_fontweight=None, legend_fontoutline=None, xlabel=None, ylabel=None, title=None, fontsize=None, figsize=None, xlim=None, ylim=None, add_density=None, add_assignments=None, add_linfit=None, add_polyfit=None, add_rug=None, add_text=None, add_text_pos=None, add_outline=None, outline_width=None, outline_color=None, n_convolve=None, smooth=None, rescale_color=None, color_gradients=None, dpi=None, frameon=None, zorder=None, ncols=None, nrows=None, wspace=None, hspace=None, show=None, save=None, ax=None, **kwargs)"
   ]
  },
  {
   "cell_type": "code",
   "execution_count": null,
   "id": "expected-analyst",
   "metadata": {
    "scrolled": false
   },
   "outputs": [],
   "source": [
    "scv.pl.scatter(adata, genes_to_plot, size=35, color=['celltype.mapped', 'velocity'])"
   ]
  },
  {
   "cell_type": "markdown",
   "id": "demonstrated-grocery",
   "metadata": {},
   "source": [
    "Driver genes display pronounced dynamic behavior and are systematically detected via their characterization by high likelihoods in the dynamic model.\n",
    "\n"
   ]
  },
  {
   "cell_type": "code",
   "execution_count": null,
   "id": "frequent-refund",
   "metadata": {},
   "outputs": [],
   "source": [
    "top_genes = adata.var['fit_likelihood'].sort_values(ascending=False).index\n",
    "scv.pl.scatter(adata, basis=top_genes[:10], ncols=5, frameon=False)"
   ]
  }
 ],
 "metadata": {
  "kernelspec": {
   "display_name": "Python 3 (ipykernel)",
   "language": "python",
   "name": "python3"
  },
  "language_info": {
   "codemirror_mode": {
    "name": "ipython",
    "version": 3
   },
   "file_extension": ".py",
   "mimetype": "text/x-python",
   "name": "python",
   "nbconvert_exporter": "python",
   "pygments_lexer": "ipython3",
   "version": "3.9.5"
  },
  "varInspector": {
   "cols": {
    "lenName": 16,
    "lenType": 16,
    "lenVar": 40
   },
   "kernels_config": {
    "python": {
     "delete_cmd_postfix": "",
     "delete_cmd_prefix": "del ",
     "library": "var_list.py",
     "varRefreshCmd": "print(var_dic_list())"
    },
    "r": {
     "delete_cmd_postfix": ") ",
     "delete_cmd_prefix": "rm(",
     "library": "var_list.r",
     "varRefreshCmd": "cat(var_dic_list()) "
    }
   },
   "position": {
    "height": "242px",
    "left": "1548px",
    "right": "20px",
    "top": "120px",
    "width": "350px"
   },
   "types_to_exclude": [
    "module",
    "function",
    "builtin_function_or_method",
    "instance",
    "_Feature"
   ],
   "window_display": false
  }
 },
 "nbformat": 4,
 "nbformat_minor": 5
}
